{
 "cells": [
  {
   "cell_type": "markdown",
   "metadata": {},
   "source": [
    "# Hard Coding Simple k-Nearest Neighbor Classifiers\n",
    "\n",
    "- When used for classification, a query point (or test point) is classified based on the k labeled training points that are closest to that query point."
   ]
  },
  {
   "cell_type": "code",
   "execution_count": 1,
   "metadata": {},
   "outputs": [],
   "source": [
    "import pandas as pd\n",
    "import numpy as np\n",
    "import matplotlib.pyplot as plt"
   ]
  },
  {
   "cell_type": "markdown",
   "metadata": {},
   "source": [
    "Using the iris data as example"
   ]
  },
  {
   "cell_type": "code",
   "execution_count": 2,
   "metadata": {},
   "outputs": [
    {
     "data": {
      "image/png": "[encoded data removed]",
      "text/plain": [
       "<Figure size 432x288 with 1 Axes>"
      ]
     },
     "metadata": {
      "needs_background": "light"
     },
     "output_type": "display_data"
    }
   ],
   "source": [
    "from sklearn import datasets\n",
    "\n",
    "iris = datasets.load_iris()\n",
    "\n",
    "X = iris[\"data\"][:100,:2]\n",
    "Y = iris[\"target\"][:100]\n",
    "\n",
    "plt.scatter(X[:,0],X[:,1], c = Y)\n",
    "plt.show()"
   ]
  },
  {
   "cell_type": "code",
   "execution_count": 3,
   "metadata": {},
   "outputs": [],
   "source": [
    "# calculate the Euclidean distance between two vectors\n",
    "def euclidean_distance(vector1: list, vector2: list) -> float:\n",
    "    distance = 0.0\n",
    "    for i in range(len(vector1)):\n",
    "        distance += (vector1[i] - vector2[i])**2\n",
    "    return np.sqrt(distance)"
   ]
  },
  {
   "cell_type": "code",
   "execution_count": 4,
   "metadata": {},
   "outputs": [],
   "source": [
    "from collections.abc import Callable\n",
    "\n",
    "class SimpleKNNClassifier:\n",
    "    \n",
    "    def __init__(self, k: int, distance_function: Callable):\n",
    "        self.k = k\n",
    "        self.distance_function = distance_function\n",
    "        \n",
    "    def load_data(self, X_train: np.array, Y_train: np.array):\n",
    "        self.X_train = X_train; self.Y_train = Y_train\n",
    "        \n",
    "    def predict(self, X_test: np.array) -> np.array:\n",
    "        prediction = []\n",
    "        for reference in X_test:\n",
    "            distance_list = [self.distance_function(reference, target) for target in self.X_train]\n",
    "            sorted_list = np.argsort(distance_list)\n",
    "            major_class = np.argmax(np.bincount(self.Y_train[sorted_list[:self.k]]))\n",
    "            prediction.append(major_class)   \n",
    "        return np.array(prediction)        "
   ]
  },
  {
   "cell_type": "code",
   "execution_count": 5,
   "metadata": {},
   "outputs": [],
   "source": [
    "from sklearn.model_selection import train_test_split\n",
    "\n",
    "X_train, X_test, Y_train, Y_test = train_test_split(X, Y,\\\n",
    "                                                    test_size = 0.40, random_state = 89)"
   ]
  },
  {
   "cell_type": "code",
   "execution_count": 6,
   "metadata": {},
   "outputs": [],
   "source": [
    "KNN = SimpleKNNClassifier(k = 10, distance_function = euclidean_distance)\n",
    "\n",
    "KNN.load_data(X_train, Y_train)"
   ]
  },
  {
   "cell_type": "code",
   "execution_count": 7,
   "metadata": {},
   "outputs": [
    {
     "data": {
      "text/plain": [
       "array([1, 0, 1, 0, 0, 1, 0, 1, 1, 0, 0, 0, 1, 0, 1, 1, 1, 0, 0, 0, 0, 1,\n",
       "       0, 1, 0, 1, 1, 1, 1, 1, 0, 0, 0, 1, 1, 1, 1, 1, 0, 0])"
      ]
     },
     "execution_count": 7,
     "metadata": {},
     "output_type": "execute_result"
    }
   ],
   "source": [
    "Y_pred = KNN.predict(X_test)\n",
    "Y_pred"
   ]
  },
  {
   "cell_type": "code",
   "execution_count": 8,
   "metadata": {},
   "outputs": [
    {
     "data": {
      "text/plain": [
       "0.975"
      ]
     },
     "execution_count": 8,
     "metadata": {},
     "output_type": "execute_result"
    }
   ],
   "source": [
    "from sklearn.metrics import accuracy_score\n",
    "\n",
    "accuracy_score(Y_pred, Y_test)"
   ]
  },
  {
   "cell_type": "markdown",
   "metadata": {},
   "source": [
    "***\n",
    "### Detailed Steps\n",
    "\n",
    "1. Define a function to calculate the distance between two points\n",
    "2. Use the distance function to get the distance between a test point and all train data points\n",
    "3. Sort distance measurements and find the k nearest neighbors\n",
    "\n",
    "*For Simple Classification*\n",
    "4. Use majority class labels of the k nearest neighbors to predict the label of the test point\n",
    "\n",
    "*For Simple Classification*\n",
    "4. Use mean traget value of the k nearest neighbors to predict the label of the test point\n",
    "\n",
    "\n",
    "5. Repeat steps 1 through 4 until all test data points are predicted"
   ]
  },
  {
   "cell_type": "markdown",
   "metadata": {},
   "source": [
    "#### Define a function to calculate the distance between two points"
   ]
  },
  {
   "cell_type": "code",
   "execution_count": 9,
   "metadata": {},
   "outputs": [],
   "source": [
    "# calculate the Euclidean distance between two vectors\n",
    "def euclidean_distance(vector1, vector2):\n",
    "    distance = 0.0\n",
    "    for i in range(len(vector1)):\n",
    "        distance += (vector1[i] - vector2[i])**2\n",
    "    return np.sqrt(distance)"
   ]
  },
  {
   "cell_type": "code",
   "execution_count": 10,
   "metadata": {},
   "outputs": [
    {
     "data": {
      "text/plain": [
       "0.5385164807134502"
      ]
     },
     "execution_count": 10,
     "metadata": {},
     "output_type": "execute_result"
    }
   ],
   "source": [
    "euclidean_distance(X[0], X[1])"
   ]
  },
  {
   "cell_type": "markdown",
   "metadata": {},
   "source": [
    "#### Use the distance function to get the distance between a test point and all known data points"
   ]
  },
  {
   "cell_type": "code",
   "execution_count": 18,
   "metadata": {
    "scrolled": false
   },
   "outputs": [
    {
     "data": {
      "text/plain": [
       "array([1.8       , 1.26491106, 0.36055513, 1.02956301, 1.80277564,\n",
       "       1.70293864, 0.14142136, 0.98488578, 2.00249844, 1.64924225,\n",
       "       1.43178211, 1.14017543, 0.80622577, 2.1       , 1.64012195,\n",
       "       1.93132079, 2.30217289, 0.        , 1.71172428, 1.44222051,\n",
       "       1.92353841, 1.22065556, 1.8       , 1.30384048, 1.90262976,\n",
       "       0.31622777, 0.60827625, 1.61245155, 1.17046999, 2.40208243,\n",
       "       1.55241747, 1.52643375, 2.00249844, 0.72801099, 0.67082039,\n",
       "       1.25299641, 1.74642492, 1.04403065, 1.33416641, 1.90262976,\n",
       "       1.72626765, 0.63245553, 0.4472136 , 0.80622577, 0.2       ,\n",
       "       1.0198039 , 1.11803399, 0.80622577, 1.1045361 , 1.55241747,\n",
       "       1.72626765, 1.62788206, 0.98488578, 2.30867928, 0.2236068 ,\n",
       "       1.74642492, 2.15870331, 1.77200451, 1.9       , 1.74642492])"
      ]
     },
     "execution_count": 18,
     "metadata": {},
     "output_type": "execute_result"
    }
   ],
   "source": [
    "# set the jth point as our reference point\n",
    "distance_list = [euclidean_distance(X_test[0], target) for target in X_train]\n",
    "np.array(distance_list)"
   ]
  },
  {
   "cell_type": "markdown",
   "metadata": {},
   "source": [
    "#### Sort distance measurements to find the points closest to the test point (i.e., find the nearest neighbors)"
   ]
  },
  {
   "cell_type": "code",
   "execution_count": 19,
   "metadata": {},
   "outputs": [
    {
     "data": {
      "text/plain": [
       "array([17,  6, 44, 54, 25,  2, 42, 26, 41, 34, 33, 43, 47, 12, 52,  7, 45,\n",
       "        3, 37, 48, 46, 11, 28, 21, 35,  1, 23, 38, 10, 19, 31, 49, 30, 27,\n",
       "       51, 14,  9,  5, 18, 50, 40, 36, 55, 59, 57,  0, 22,  4, 58, 24, 39,\n",
       "       20, 15, 32,  8, 13, 56, 16, 53, 29])"
      ]
     },
     "execution_count": 19,
     "metadata": {},
     "output_type": "execute_result"
    }
   ],
   "source": [
    "sorted_list= np.argsort(distance_list)\n",
    "sorted_list"
   ]
  },
  {
   "cell_type": "markdown",
   "metadata": {},
   "source": [
    "#### Use majority class labels of those closest points to predict the label of the test point"
   ]
  },
  {
   "cell_type": "code",
   "execution_count": 20,
   "metadata": {},
   "outputs": [],
   "source": [
    "k = 5"
   ]
  },
  {
   "cell_type": "code",
   "execution_count": 21,
   "metadata": {},
   "outputs": [
    {
     "data": {
      "text/plain": [
       "array([1, 1, 1, 1, 1])"
      ]
     },
     "execution_count": 21,
     "metadata": {},
     "output_type": "execute_result"
    }
   ],
   "source": [
    "# class for the neighbors\n",
    "Y_train[sorted_list[:k]]"
   ]
  },
  {
   "cell_type": "code",
   "execution_count": 22,
   "metadata": {},
   "outputs": [
    {
     "data": {
      "text/plain": [
       "array([0, 5])"
      ]
     },
     "execution_count": 22,
     "metadata": {},
     "output_type": "execute_result"
    }
   ],
   "source": [
    "# count the classes\n",
    "np.bincount(Y_train[sorted_list[:k]])"
   ]
  },
  {
   "cell_type": "code",
   "execution_count": 23,
   "metadata": {},
   "outputs": [
    {
     "data": {
      "text/plain": [
       "1"
      ]
     },
     "execution_count": 23,
     "metadata": {},
     "output_type": "execute_result"
    }
   ],
   "source": [
    "k = 5\n",
    "major_class = np.argmax(np.bincount(Y_train[sorted_list[:k]]))\n",
    "major_class"
   ]
  },
  {
   "cell_type": "markdown",
   "metadata": {},
   "source": [
    "#### Repeat steps 1 through 4 until all test data points are classified"
   ]
  },
  {
   "cell_type": "code",
   "execution_count": 24,
   "metadata": {},
   "outputs": [
    {
     "data": {
      "text/plain": [
       "array([1, 0, 1, 0, 0, 1, 0, 1, 1, 0, 0, 0, 1, 0, 1, 1, 1, 0, 0, 0, 0, 1,\n",
       "       1, 1, 0, 1, 1, 1, 1, 1, 0, 0, 0, 1, 1, 1, 1, 1, 0, 0])"
      ]
     },
     "execution_count": 24,
     "metadata": {},
     "output_type": "execute_result"
    }
   ],
   "source": [
    "prediction = []\n",
    "for j in X_test:\n",
    "    distance_list = [euclidean_distance(j, i) for i in X_train]\n",
    "    sorted_list= np.argsort(distance_list)\n",
    "    major_class = np.argmax(np.bincount(Y_train[sorted_list[:k]]))\n",
    "    prediction.append(major_class)\n",
    "    \n",
    "prediction = np.array(prediction)\n",
    "prediction"
   ]
  },
  {
   "cell_type": "code",
   "execution_count": 25,
   "metadata": {},
   "outputs": [
    {
     "data": {
      "text/plain": [
       "array([1, 0, 1, 0, 0, 1, 0, 1, 1, 0, 0, 0, 1, 0, 1, 1, 1, 0, 0, 0, 0, 1,\n",
       "       1, 1, 0, 1, 1, 1, 1, 1, 0, 0, 0, 1, 1, 1, 1, 1, 0, 0])"
      ]
     },
     "execution_count": 25,
     "metadata": {},
     "output_type": "execute_result"
    }
   ],
   "source": [
    "Y_test"
   ]
  },
  {
   "cell_type": "code",
   "execution_count": null,
   "metadata": {},
   "outputs": [],
   "source": []
  }
 ],
 "metadata": {
  "kernelspec": {
   "display_name": "Python 3",
   "language": "python",
   "name": "python3"
  },
  "language_info": {
   "codemirror_mode": {
    "name": "ipython",
    "version": 3
   },
   "file_extension": ".py",
   "mimetype": "text/x-python",
   "name": "python",
   "nbconvert_exporter": "python",
   "pygments_lexer": "ipython3",
   "version": "3.7.10"
  }
 },
 "nbformat": 4,
 "nbformat_minor": 4
}
